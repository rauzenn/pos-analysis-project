import stanza
import pandas as pd
import matplotlib.pyplot as plt

# Stanza modelini yükleme
stanza.download('tr')
nlp = stanza.Pipeline('tr')

# Örnek: Metin dosyalarını okuma
with open("text1.txt", "r", encoding="utf-8") as file:
    text1 = file.read()
with open("text2.txt", "r", encoding="utf-8") as file:
    text2 = file.read()
with open("text3.txt", "r", encoding="utf-8") as file:
    text3 = file.read()
texts = [text1, text2, text3]

# Her bir metin için POS analizi
pos_results = []
for text in texts:
    doc = nlp(text)
    for sentence in doc.sentences:
        for word in sentence.words:
            pos_results.append((word.text, word.upos))

from collections import Counter

# Sadece isim ve fiillerin listesi
nouns = [word for word, pos in pos_results if pos == "NOUN"]
verbs = [word for word, pos in pos_results if pos == "VERB"]

# İsim ve fiil sıklıklarının hesaplanması
noun_counts = Counter(nouns)
verb_counts = Counter(verbs)

# En çok kullanılanları yazdırma
print("En çok kullanılan isimler:", noun_counts.most_common(10))
print("En çok kullanılan fiiller:", verb_counts.most_common(10))

# Sonuçları DataFrame'e çevirip CSV olarak kaydetme
df = pd.DataFrame(pos_results, columns=["Kelime", "POS"])
df.to_csv("pos_results.csv", index=False)

git add pos_results.csv
git commit -m "POS analiz sonuçları eklendi"
git push
